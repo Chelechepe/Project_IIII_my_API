{
 "cells": [
  {
   "cell_type": "code",
   "execution_count": 2,
   "id": "07636a54",
   "metadata": {},
   "outputs": [],
   "source": [
    "import requests"
   ]
  },
  {
   "cell_type": "markdown",
   "id": "10e986c7",
   "metadata": {},
   "source": [
    "# GET"
   ]
  },
  {
   "cell_type": "code",
   "execution_count": 3,
   "id": "2be4cc24",
   "metadata": {},
   "outputs": [],
   "source": [
    "response = requests.get(\"http://127.0.0.1:5000/line\").json()"
   ]
  },
  {
   "cell_type": "code",
   "execution_count": 4,
   "id": "ad904976",
   "metadata": {},
   "outputs": [
    {
     "data": {
      "text/plain": [
       "{'author': 'Monica',\n",
       " 'episode_number': 1.0,\n",
       " 'episode_title': 'Monica Gets A Roommate',\n",
       " 'index': 0,\n",
       " 'quote': \"There's nothing to tell! He's just some guy I work with!\",\n",
       " 'quote_order': 0.0,\n",
       " 'season': 1.0}"
      ]
     },
     "execution_count": 4,
     "metadata": {},
     "output_type": "execute_result"
    }
   ],
   "source": [
    "response[0]"
   ]
  },
  {
   "cell_type": "markdown",
   "id": "b80de38c",
   "metadata": {},
   "source": [
    "## Get with params"
   ]
  },
  {
   "cell_type": "code",
   "execution_count": 5,
   "id": "28cd1b09",
   "metadata": {},
   "outputs": [],
   "source": [
    "params = {\"language\":\"es\"}"
   ]
  },
  {
   "cell_type": "code",
   "execution_count": 6,
   "id": "a0bdabc2",
   "metadata": {},
   "outputs": [],
   "source": [
    "episode_title = \"Ross's%20New%20Girlfriend\""
   ]
  },
  {
   "cell_type": "code",
   "execution_count": 10,
   "id": "e1d89f0a",
   "metadata": {},
   "outputs": [],
   "source": [
    "name = \"Chandler\""
   ]
  },
  {
   "cell_type": "code",
   "execution_count": 11,
   "id": "9ecfcd2b",
   "metadata": {},
   "outputs": [],
   "source": [
    "season = \"2\""
   ]
  },
  {
   "cell_type": "code",
   "execution_count": 12,
   "id": "349d0df2",
   "metadata": {},
   "outputs": [],
   "source": [
    "response2 = requests.get(f\"http://127.0.0.1:5000/episodes/{season}/{episode_title}/{name}\", params).json()"
   ]
  },
  {
   "cell_type": "code",
   "execution_count": 13,
   "id": "6330020d",
   "metadata": {},
   "outputs": [
    {
     "data": {
      "text/plain": [
       "{'author': 'Chandler',\n",
       " 'episode_number': 1.0,\n",
       " 'episode_title': \"Ross's New Girlfriend\",\n",
       " 'index': 5991,\n",
       " 'quote': '¡De ninguna manera!',\n",
       " 'quote_order': 13.0,\n",
       " 'season': 2.0}"
      ]
     },
     "execution_count": 13,
     "metadata": {},
     "output_type": "execute_result"
    }
   ],
   "source": [
    "response2[0]"
   ]
  },
  {
   "cell_type": "code",
   "execution_count": null,
   "id": "c2cd1167",
   "metadata": {},
   "outputs": [],
   "source": [
    "response_link = \"http://127.0.0.1:5000/episodes/2/Ross's%20New%20Girlfriend/rachel?language=es\""
   ]
  },
  {
   "cell_type": "markdown",
   "id": "27c2d237",
   "metadata": {},
   "source": [
    "# POST"
   ]
  },
  {
   "cell_type": "code",
   "execution_count": 17,
   "id": "be186d5c",
   "metadata": {},
   "outputs": [],
   "source": [
    "data ={\"author\":\"Edgard\",\n",
    "       \"episode_number\": 1,\n",
    "       \"episode_title\": \"My API Project\",\n",
    "       \"quote\": \"Holly Maracas, is this going to work!?\", \n",
    "       \"quote_order\": 1278,\n",
    "       \"season\":11\n",
    "      }"
   ]
  },
  {
   "cell_type": "code",
   "execution_count": 18,
   "id": "7ff27b23",
   "metadata": {},
   "outputs": [],
   "source": [
    "url = \"http://127.0.0.1:5000/post\""
   ]
  },
  {
   "cell_type": "code",
   "execution_count": 19,
   "id": "47217ad1",
   "metadata": {},
   "outputs": [
    {
     "data": {
      "text/plain": [
       "<Response [200]>"
      ]
     },
     "execution_count": 19,
     "metadata": {},
     "output_type": "execute_result"
    }
   ],
   "source": [
    "requests.post(url, data=data)"
   ]
  },
  {
   "cell_type": "code",
   "execution_count": null,
   "id": "2db6c478",
   "metadata": {},
   "outputs": [],
   "source": []
  }
 ],
 "metadata": {
  "kernelspec": {
   "display_name": "Python 3 (ipykernel)",
   "language": "python",
   "name": "python3"
  },
  "language_info": {
   "codemirror_mode": {
    "name": "ipython",
    "version": 3
   },
   "file_extension": ".py",
   "mimetype": "text/x-python",
   "name": "python",
   "nbconvert_exporter": "python",
   "pygments_lexer": "ipython3",
   "version": "3.9.12"
  },
  "nbTranslate": {
   "displayLangs": [
    "en",
    "es"
   ],
   "hotkey": "alt-a",
   "langInMainMenu": true,
   "sourceLang": "es",
   "targetLang": "en",
   "useGoogleTranslate": true
  },
  "toc": {
   "base_numbering": 1,
   "nav_menu": {},
   "number_sections": true,
   "sideBar": true,
   "skip_h1_title": false,
   "title_cell": "Table of Contents",
   "title_sidebar": "Contents",
   "toc_cell": false,
   "toc_position": {},
   "toc_section_display": true,
   "toc_window_display": false
  }
 },
 "nbformat": 4,
 "nbformat_minor": 5
}
